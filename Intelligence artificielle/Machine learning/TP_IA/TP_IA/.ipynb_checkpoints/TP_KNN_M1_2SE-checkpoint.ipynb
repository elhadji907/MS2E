{
 "cells": [
  {
   "cell_type": "code",
   "execution_count": 26,
   "id": "25bb402c",
   "metadata": {
    "scrolled": true
   },
   "outputs": [
    {
     "name": "stdout",
     "output_type": "stream",
     "text": [
      "Shape: (150, 5)\n",
      "\n",
      "Features: Index(['Sepal Length', 'Sepal Width', 'Petal Length', 'Petal Width',\n",
      "       'Species'],\n",
      "      dtype='object')\n"
     ]
    }
   ],
   "source": [
    "import pandas as pd \n",
    "\n",
    "# reading csv file \n",
    "data = pd.read_csv('iris.csv') \n",
    "\n",
    "# shape of dataset \n",
    "print(\"Shape:\", data.shape) \n",
    "\n",
    "# column names \n",
    "print(\"\\nFeatures:\", data.columns)"
   ]
  },
  {
   "cell_type": "code",
   "execution_count": 27,
   "id": "70dc38ec",
   "metadata": {},
   "outputs": [
    {
     "name": "stdout",
     "output_type": "stream",
     "text": [
      "\n",
      "Feature matrix:\n",
      "    Sepal Length  Sepal Width  Petal Length  Petal Width\n",
      "0           5.1          3.5           1.4          0.2\n",
      "1           4.9          3.0           1.4          0.2\n",
      "2           4.7          3.2           1.3          0.2\n",
      "3           4.6          3.1           1.5          0.2\n",
      "4           5.0          3.6           1.4          0.2\n",
      "\n",
      "Response vector:\n",
      " 0    setosa\n",
      "1    setosa\n",
      "2    setosa\n",
      "3    setosa\n",
      "4    setosa\n",
      "Name: Species, dtype: object\n"
     ]
    }
   ],
   "source": [
    "# storing the feature matrix (x) and response vector (y) \n",
    "x = data[data.columns[0:-1]] \n",
    "y = data[data.columns[-1]] \n",
    "\n",
    "# printing first 5 rows of feature matrix \n",
    "print(\"\\nFeature matrix:\\n\", x.head(10)) \n",
    "\n",
    "# printing first 5 values of response vector \n",
    "print(\"\\nResponse vector:\\n\", y.head())"
   ]
  },
  {
   "cell_type": "code",
   "execution_count": 28,
   "id": "811ad3ef",
   "metadata": {},
   "outputs": [
    {
     "name": "stdout",
     "output_type": "stream",
     "text": [
      "training set:\n",
      "(90, 4)\n",
      "(90,)\n",
      "test set:\n",
      "(60, 4)\n",
      "(60,)\n"
     ]
    }
   ],
   "source": [
    "# splitting X and y into training and testing sets \n",
    "# scikit learn\n",
    "from sklearn.model_selection import train_test_split \n",
    "x_train, x_test, y_train, y_test = train_test_split(x, y, test_size=0.40, random_state=1) \n",
    "\n",
    "# printing the shapes of the new x and y objects \n",
    "print('training set:')\n",
    "\n",
    "\n",
    "print(x_train.shape) \n",
    "print(y_train.shape)\n",
    "\n",
    "print('test set:')\n",
    "print(x_test.shape) \n",
    "print(y_test.shape) "
   ]
  },
  {
   "cell_type": "code",
   "execution_count": 29,
   "id": "d0fbccfb",
   "metadata": {},
   "outputs": [
    {
     "data": {
      "text/plain": [
       "KNeighborsClassifier(n_neighbors=10)"
      ]
     },
     "execution_count": 29,
     "metadata": {},
     "output_type": "execute_result"
    }
   ],
   "source": [
    "# training the model on training set \n",
    "from sklearn.neighbors import KNeighborsClassifier \n",
    "\n",
    "knn = KNeighborsClassifier(n_neighbors=10) \n",
    "knn.fit(x_train, y_train) "
   ]
  },
  {
   "cell_type": "code",
   "execution_count": 30,
   "id": "3d7a050c",
   "metadata": {},
   "outputs": [
    {
     "name": "stdout",
     "output_type": "stream",
     "text": [
      "Classes prédites pour les exemples de test\n",
      "['setosa' 'versicolor' 'versicolor' 'setosa' 'virginica' 'versicolor'\n",
      " 'virginica' 'setosa' 'setosa' 'virginica' 'versicolor' 'setosa'\n",
      " 'virginica' 'versicolor' 'versicolor' 'setosa' 'versicolor' 'versicolor'\n",
      " 'setosa' 'setosa' 'versicolor' 'versicolor' 'virginica' 'setosa'\n",
      " 'virginica' 'versicolor' 'setosa' 'setosa' 'versicolor' 'virginica'\n",
      " 'versicolor' 'virginica' 'versicolor' 'virginica' 'virginica' 'setosa'\n",
      " 'versicolor' 'setosa' 'versicolor' 'virginica' 'virginica' 'setosa'\n",
      " 'virginica' 'virginica' 'versicolor' 'virginica' 'setosa' 'setosa'\n",
      " 'setosa' 'versicolor' 'setosa' 'setosa' 'virginica' 'virginica'\n",
      " 'virginica' 'virginica' 'virginica' 'versicolor' 'virginica' 'versicolor']\n",
      "Classes réelles des exemples de test\n",
      "14         setosa\n",
      "98     versicolor\n",
      "75     versicolor\n",
      "16         setosa\n",
      "131     virginica\n",
      "56     versicolor\n",
      "141     virginica\n",
      "44         setosa\n",
      "29         setosa\n",
      "120     virginica\n",
      "94     versicolor\n",
      "5          setosa\n",
      "102     virginica\n",
      "51     versicolor\n",
      "78     versicolor\n",
      "42         setosa\n",
      "92     versicolor\n",
      "66     versicolor\n",
      "31         setosa\n",
      "35         setosa\n",
      "90     versicolor\n",
      "84     versicolor\n",
      "77     versicolor\n",
      "40         setosa\n",
      "125     virginica\n",
      "99     versicolor\n",
      "33         setosa\n",
      "19         setosa\n",
      "73     versicolor\n",
      "146     virginica\n",
      "91     versicolor\n",
      "135     virginica\n",
      "69     versicolor\n",
      "128     virginica\n",
      "114     virginica\n",
      "48         setosa\n",
      "53     versicolor\n",
      "28         setosa\n",
      "54     versicolor\n",
      "108     virginica\n",
      "112     virginica\n",
      "17         setosa\n",
      "119     virginica\n",
      "103     virginica\n",
      "58     versicolor\n",
      "118     virginica\n",
      "18         setosa\n",
      "4          setosa\n",
      "45         setosa\n",
      "59     versicolor\n",
      "39         setosa\n",
      "36         setosa\n",
      "117     virginica\n",
      "139     virginica\n",
      "107     virginica\n",
      "132     virginica\n",
      "126     virginica\n",
      "85     versicolor\n",
      "122     virginica\n",
      "95     versicolor\n",
      "Name: Species, dtype: object\n"
     ]
    }
   ],
   "source": [
    "# making predictions on the testing set \n",
    "y_pred = knn.predict(x_test) \n",
    "\n",
    "print(\"Classes prédites pour les exemples de test\")\n",
    "print(y_pred)\n",
    "\n",
    "print(\"Classes réelles des exemples de test\")\n",
    "print(y_test)"
   ]
  },
  {
   "cell_type": "code",
   "execution_count": 31,
   "id": "f8225a5a",
   "metadata": {},
   "outputs": [
    {
     "name": "stdout",
     "output_type": "stream",
     "text": [
      "Performances du modèle sur les exemples de test: \n",
      "efficacité:  0.9833333333333333  , soit  98.33333333333333  %\n",
      "erreur:  0.01666666666666672  , soit  1.6666666666666718  %\n"
     ]
    }
   ],
   "source": [
    "# comparing actual response values (y_test) with predicted response values (y_pred) \n",
    "from sklearn.metrics import accuracy_score\n",
    "efficacite = accuracy_score(y_test, y_pred)\n",
    "erreur = 1-efficacite\n",
    "print(\"Performances du modèle sur les exemples de test: \")\n",
    "print(\"efficacité: \",efficacite,\" , soit \",efficacite*100,' %') \n",
    "print(\"erreur: \",erreur,\" , soit \",erreur*100,' %') \n"
   ]
  },
  {
   "cell_type": "code",
   "execution_count": 32,
   "id": "fad2f07b",
   "metadata": {
    "scrolled": true
   },
   "outputs": [
    {
     "name": "stdout",
     "output_type": "stream",
     "text": [
      "matrice de confusion avec les exemples de test\n",
      "[[19  0  0]\n",
      " [ 0 20  1]\n",
      " [ 0  0 20]]\n"
     ]
    }
   ],
   "source": [
    "from sklearn.metrics import confusion_matrix\n",
    "conf = confusion_matrix(y_test, y_pred)\n",
    "print('matrice de confusion avec les exemples de test')\n",
    "print(conf)"
   ]
  },
  {
   "cell_type": "code",
   "execution_count": 33,
   "id": "1d85aae2",
   "metadata": {},
   "outputs": [
    {
     "data": {
      "image/png": "[encoded data removed]",
      "text/plain": [
       "<Figure size 432x288 with 1 Axes>"
      ]
     },
     "metadata": {},
     "output_type": "display_data"
    }
   ],
   "source": [
    "import matplotlib.pyplot as plt\n",
    "import seaborn as sns\n",
    "sns.set()\n",
    "sns.heatmap(conf, square=True, annot=True, cbar=False)\n",
    "plt.xlabel('classes prédites')\n",
    "plt.ylabel('classes réelles');"
   ]
  },
  {
   "cell_type": "code",
   "execution_count": 34,
   "id": "b2365969",
   "metadata": {
    "scrolled": true
   },
   "outputs": [
    {
     "name": "stdout",
     "output_type": "stream",
     "text": [
      "Classification Report:\n",
      "              precision    recall  f1-score   support\n",
      "\n",
      "      setosa       1.00      1.00      1.00        19\n",
      "  versicolor       1.00      0.95      0.98        21\n",
      "   virginica       0.95      1.00      0.98        20\n",
      "\n",
      "    accuracy                           0.98        60\n",
      "   macro avg       0.98      0.98      0.98        60\n",
      "weighted avg       0.98      0.98      0.98        60\n",
      "\n"
     ]
    }
   ],
   "source": [
    "from sklearn.metrics import classification_report\n",
    "result = classification_report(y_test, y_pred)\n",
    "print(\"Classification Report:\",)\n",
    "print (result)"
   ]
  },
  {
   "cell_type": "code",
   "execution_count": 35,
   "id": "b2d4aa7c",
   "metadata": {
    "scrolled": true
   },
   "outputs": [
    {
     "name": "stdout",
     "output_type": "stream",
     "text": [
      "For the new examples  [[3, 5, 4, 2]]\n",
      "The Predictions are : ['versicolor']\n"
     ]
    }
   ],
   "source": [
    "# making prediction for a new example\n",
    "sample = [ [3, 5, 4, 2 ] ] \n",
    "preds = knn.predict(sample) \n",
    "print('For the new examples ', sample)\n",
    "print(\"The Predictions are :\", preds)"
   ]
  },
  {
   "cell_type": "code",
   "execution_count": 36,
   "id": "8d7d21c8",
   "metadata": {
    "scrolled": true
   },
   "outputs": [
    {
     "name": "stdout",
     "output_type": "stream",
     "text": [
      "For the new examples  [[3, 5, 4, 2], [2, 3, 5, 4]]\n",
      "The Predictions are : ['versicolor' 'virginica']\n"
     ]
    }
   ],
   "source": [
    "# making prediction for two new examples\n",
    "sample = [[3, 5, 4, 2], [2, 3, 5, 4]] \n",
    "preds = knn.predict(sample)\n",
    "print('For the new examples ', sample)\n",
    "print(\"The Predictions are :\", preds)"
   ]
  },
  {
   "cell_type": "code",
   "execution_count": 37,
   "id": "a6c131ce",
   "metadata": {},
   "outputs": [
    {
     "name": "stdout",
     "output_type": "stream",
     "text": [
      "Le modèle a été sauvegardé dans le disque\n"
     ]
    }
   ],
   "source": [
    "# Sauvegarde du modèle dans le disque dur\n",
    "import pickle\n",
    "pickle.dump(knn,open(\"M2IMN_kNN_model.sav\", \"wb\"))\n",
    "print('Le modèle a été sauvegardé dans le disque')"
   ]
  },
  {
   "cell_type": "code",
   "execution_count": 38,
   "id": "37ecf16f",
   "metadata": {},
   "outputs": [
    {
     "name": "stdout",
     "output_type": "stream",
     "text": [
      "Le modèle sauvegardé a été chargé avec succès!\n"
     ]
    }
   ],
   "source": [
    "# Chargement du modèle sauvegardé\n",
    "knn_from_pickle = pickle.load(open(\"M2IMN_kNN_model.sav\",\"rb\"))\n",
    "print('Le modèle sauvegardé a été chargé avec succès!')\n"
   ]
  },
  {
   "cell_type": "code",
   "execution_count": 39,
   "id": "e554325b",
   "metadata": {},
   "outputs": [
    {
     "name": "stdout",
     "output_type": "stream",
     "text": [
      "Pour les nouveaux exemples\n",
      "[[3, 5, 4, 2], [2, 3, 5, 4], [2.5, 1.3, 3.5, 4.0]]\n",
      "Le modèle chargé fait les prédictions\n",
      "['versicolor' 'virginica' 'versicolor']\n"
     ]
    }
   ],
   "source": [
    "# making prediction for new examples with the loaded model\n",
    "sample = [[3, 5, 4, 2], [2, 3, 5, 4], [2.5, 1.3, 3.5, 4.0]] \n",
    "preds = knn_from_pickle.predict(sample) \n",
    "print('Pour les nouveaux exemples')\n",
    "print(sample)\n",
    "print(\"Le modèle chargé fait les prédictions\")\n",
    "print(preds)"
   ]
  },
  {
   "cell_type": "code",
   "execution_count": 40,
   "id": "2adc3a0c",
   "metadata": {
    "scrolled": true
   },
   "outputs": [
    {
     "name": "stdout",
     "output_type": "stream",
     "text": [
      "Pour les valeurs de k :\n",
      "[1, 2, 3, 4, 5, 6, 7, 8, 9, 10, 11, 12, 13, 14, 15, 16, 17, 18, 19, 20, 21, 22, 23, 24, 25, 26, 27, 28, 29, 30]\n",
      "Les valeurs de l'efficacités sont :\n",
      "[0.9666666666666667, 0.9833333333333333, 0.9833333333333333, 0.9666666666666667, 0.9833333333333333, 0.9833333333333333, 0.9833333333333333, 0.9833333333333333, 0.9833333333333333, 0.9833333333333333, 0.9833333333333333, 0.9833333333333333, 0.9833333333333333, 0.9833333333333333, 0.9833333333333333, 0.9833333333333333, 0.9833333333333333, 0.9833333333333333, 0.9833333333333333, 0.9833333333333333, 0.9833333333333333, 0.9833333333333333, 0.9833333333333333, 0.9833333333333333, 0.9833333333333333, 0.9666666666666667, 0.9833333333333333, 0.95, 0.9666666666666667, 0.9666666666666667]\n"
     ]
    }
   ],
   "source": [
    "#lets run KNeighborsClassifier for k = 1 to 30 \n",
    "accuracy_list = []\n",
    "for k in range(1,31):\n",
    "    knn = KNeighborsClassifier(n_neighbors=k)\n",
    "    knn.fit(x_train,y_train)   \n",
    "    y_pred = knn.predict(x_test)\n",
    "    acc = accuracy_score(y_test,y_pred)\n",
    "    accuracy_list.append(acc)\n",
    "\n",
    "k_list = list(range(1,31))\n",
    "print(\"Pour les valeurs de k :\")\n",
    "print(k_list)\n",
    "print(\"Les valeurs de l'efficacités sont :\")\n",
    "print(accuracy_list)"
   ]
  },
  {
   "cell_type": "code",
   "execution_count": 41,
   "id": "fa8b3e3e",
   "metadata": {
    "scrolled": false
   },
   "outputs": [
    {
     "name": "stdout",
     "output_type": "stream",
     "text": [
      "Courbe de l'efficacité du modèle en fonction de k\n"
     ]
    },
    {
     "data": {
      "text/plain": [
       "Text(0, 0.5, 'accuracy')"
      ]
     },
     "execution_count": 41,
     "metadata": {},
     "output_type": "execute_result"
    },
    {
     "data": {
      "image/png": "[encoded data removed]",
      "text/plain": [
       "<Figure size 432x288 with 1 Axes>"
      ]
     },
     "metadata": {},
     "output_type": "display_data"
    }
   ],
   "source": [
    "\n",
    "print(\"Courbe de l'efficacité du modèle en fonction de k\")\n",
    "plt.plot(k_list,accuracy_list)\n",
    "plt.xlabel(\"K\")\n",
    "plt.ylabel('accuracy')"
   ]
  },
  {
   "cell_type": "code",
   "execution_count": null,
   "id": "e8d92f53",
   "metadata": {},
   "outputs": [],
   "source": []
  },
  {
   "cell_type": "code",
   "execution_count": null,
   "id": "974b4474",
   "metadata": {},
   "outputs": [],
   "source": []
  }
 ],
 "metadata": {
  "kernelspec": {
   "display_name": "Python 3 (ipykernel)",
   "language": "python",
   "name": "python3"
  },
  "language_info": {
   "codemirror_mode": {
    "name": "ipython",
    "version": 3
   },
   "file_extension": ".py",
   "mimetype": "text/x-python",
   "name": "python",
   "nbconvert_exporter": "python",
   "pygments_lexer": "ipython3",
   "version": "3.9.7"
  }
 },
 "nbformat": 4,
 "nbformat_minor": 5
}
