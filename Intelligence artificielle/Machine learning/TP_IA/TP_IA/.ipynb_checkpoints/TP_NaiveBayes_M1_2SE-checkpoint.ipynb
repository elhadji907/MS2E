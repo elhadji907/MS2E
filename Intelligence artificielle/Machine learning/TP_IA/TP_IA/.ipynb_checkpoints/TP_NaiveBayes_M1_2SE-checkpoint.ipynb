{
 "cells": [
  {
   "cell_type": "code",
   "execution_count": 1,
   "metadata": {
    "scrolled": true
   },
   "outputs": [
    {
     "name": "stdout",
     "output_type": "stream",
     "text": [
      "Shape: (150, 5)\n",
      "\n",
      "Features: Index(['Sepal Length', 'Sepal Width', 'Petal Length', 'Petal Width',\n",
      "       'Species'],\n",
      "      dtype='object')\n"
     ]
    }
   ],
   "source": [
    "import pandas as pd \n",
    "\n",
    "# reading csv file \n",
    "data = pd.read_csv('C:\\\\Users\\\\LENOVO\\\\TP M2\\\\iris.csv') \n",
    "\n",
    "# shape of dataset \n",
    "print(\"Shape:\", data.shape) \n",
    "\n",
    "# column names \n",
    "print(\"\\nFeatures:\", data.columns) \n",
    "\n",
    "\n"
   ]
  },
  {
   "cell_type": "code",
   "execution_count": 2,
   "metadata": {},
   "outputs": [
    {
     "name": "stdout",
     "output_type": "stream",
     "text": [
      "\n",
      "Feature matrix:\n",
      "    Sepal Length  Sepal Width  Petal Length  Petal Width\n",
      "0           5.1          3.5           1.4          0.2\n",
      "1           4.9          3.0           1.4          0.2\n",
      "2           4.7          3.2           1.3          0.2\n",
      "3           4.6          3.1           1.5          0.2\n",
      "4           5.0          3.6           1.4          0.2\n",
      "\n",
      "Response vector:\n",
      " 0    setosa\n",
      "1    setosa\n",
      "2    setosa\n",
      "3    setosa\n",
      "4    setosa\n",
      "Name: Species, dtype: object\n"
     ]
    }
   ],
   "source": [
    "# storing the feature matrix (x) and response vector (y) \n",
    "x = data[data.columns[:-1]] \n",
    "y = data[data.columns[-1]] \n",
    "\n",
    "# printing first 5 rows of feature matrix \n",
    "print(\"\\nFeature matrix:\\n\", x.head()) \n",
    "\n",
    "# printing first 5 values of response vector \n",
    "print(\"\\nResponse vector:\\n\", y.head())\n",
    "\n",
    "\n",
    "\n"
   ]
  },
  {
   "cell_type": "code",
   "execution_count": 3,
   "metadata": {},
   "outputs": [
    {
     "name": "stdout",
     "output_type": "stream",
     "text": [
      "training set:\n",
      "(90, 4)\n",
      "(90,)\n",
      "test set:\n",
      "(60, 4)\n",
      "(60,)\n"
     ]
    }
   ],
   "source": [
    "# splitting X and y into training and testing sets \n",
    "# scikit learn\n",
    "from sklearn.model_selection import train_test_split \n",
    "x_train, x_test, y_train, y_test = train_test_split(x, y, test_size=0.4, random_state=1) \n",
    "\n",
    "# printing the shapes of the new X object and y object of the training set \n",
    "print('training set:')\n",
    "print(x_train.shape) \n",
    "print(y_train.shape)\n",
    "\n",
    "# printing the shapes of the new y object and y object of the test set \n",
    "print('test set:')\n",
    "print(x_test.shape) \n",
    "print(y_test.shape) \n",
    "\n",
    "\n",
    "\n",
    "\n",
    "\n",
    "\n"
   ]
  },
  {
   "cell_type": "code",
   "execution_count": 4,
   "metadata": {},
   "outputs": [
    {
     "name": "stdout",
     "output_type": "stream",
     "text": [
      "\n",
      "Feature matrix:\n",
      "      Sepal Length  Sepal Width  Petal Length  Petal Width\n",
      "11            4.8          3.4           1.6          0.2\n",
      "113           5.7          2.5           5.0          2.0\n",
      "123           6.3          2.7           4.9          1.8\n",
      "12            4.8          3.0           1.4          0.1\n",
      "2             4.7          3.2           1.3          0.2\n",
      "\n",
      "Response vector:\n",
      " 11        setosa\n",
      "113    virginica\n",
      "123    virginica\n",
      "12        setosa\n",
      "2         setosa\n",
      "Name: Species, dtype: object\n"
     ]
    }
   ],
   "source": [
    "# printing first 5 rows of feature matrix of the training set\n",
    "print(\"\\nFeature matrix:\\n\", x_train.head()) \n",
    "\n",
    "# printing first 5 values of response vector of the training set\n",
    "print(\"\\nResponse vector:\\n\", y_train.head())"
   ]
  },
  {
   "cell_type": "code",
   "execution_count": 5,
   "metadata": {},
   "outputs": [
    {
     "name": "stdout",
     "output_type": "stream",
     "text": [
      "\n",
      "Feature matrix:\n",
      "      Sepal Length  Sepal Width  Petal Length  Petal Width\n",
      "14            5.8          4.0           1.2          0.2\n",
      "98            5.1          2.5           3.0          1.1\n",
      "75            6.6          3.0           4.4          1.4\n",
      "16            5.4          3.9           1.3          0.4\n",
      "131           7.9          3.8           6.4          2.0\n",
      "\n",
      "Response vector:\n",
      " 14         setosa\n",
      "98     versicolor\n",
      "75     versicolor\n",
      "16         setosa\n",
      "131     virginica\n",
      "Name: Species, dtype: object\n"
     ]
    }
   ],
   "source": [
    "# printing first 5 rows of feature matrix of the test set\n",
    "print(\"\\nFeature matrix:\\n\", x_test.head()) \n",
    "\n",
    "# printing first 5 values of response vector of the test set\n",
    "print(\"\\nResponse vector:\\n\", y_test.head())"
   ]
  },
  {
   "cell_type": "code",
   "execution_count": 9,
   "metadata": {},
   "outputs": [
    {
     "data": {
      "text/plain": [
       "GaussianNB()"
      ]
     },
     "execution_count": 9,
     "metadata": {},
     "output_type": "execute_result"
    }
   ],
   "source": [
    "# training the model on training set \n",
    "from sklearn.naive_bayes import GaussianNB \n",
    "\n",
    "NB_model = GaussianNB() \n",
    "\n",
    "NB_model.fit(x_train, y_train) \n",
    "\n",
    "\n"
   ]
  },
  {
   "cell_type": "code",
   "execution_count": 10,
   "metadata": {},
   "outputs": [
    {
     "name": "stdout",
     "output_type": "stream",
     "text": [
      "Classes prédites pour les exemples de test\n",
      "['setosa' 'versicolor' 'versicolor' 'setosa' 'virginica' 'virginica'\n",
      " 'virginica' 'setosa' 'setosa' 'virginica' 'versicolor' 'setosa'\n",
      " 'virginica' 'versicolor' 'versicolor' 'setosa' 'versicolor' 'versicolor'\n",
      " 'setosa' 'setosa' 'versicolor' 'versicolor' 'virginica' 'setosa'\n",
      " 'virginica' 'versicolor' 'setosa' 'setosa' 'versicolor' 'virginica'\n",
      " 'versicolor' 'virginica' 'versicolor' 'virginica' 'virginica' 'setosa'\n",
      " 'versicolor' 'setosa' 'versicolor' 'virginica' 'virginica' 'setosa'\n",
      " 'versicolor' 'virginica' 'versicolor' 'virginica' 'setosa' 'setosa'\n",
      " 'setosa' 'versicolor' 'setosa' 'setosa' 'virginica' 'virginica'\n",
      " 'virginica' 'virginica' 'virginica' 'versicolor' 'virginica' 'versicolor']\n",
      "Classes réelles des exemples de test\n",
      "14         setosa\n",
      "98     versicolor\n",
      "75     versicolor\n",
      "16         setosa\n",
      "131     virginica\n",
      "56     versicolor\n",
      "141     virginica\n",
      "44         setosa\n",
      "29         setosa\n",
      "120     virginica\n",
      "94     versicolor\n",
      "5          setosa\n",
      "102     virginica\n",
      "51     versicolor\n",
      "78     versicolor\n",
      "42         setosa\n",
      "92     versicolor\n",
      "66     versicolor\n",
      "31         setosa\n",
      "35         setosa\n",
      "90     versicolor\n",
      "84     versicolor\n",
      "77     versicolor\n",
      "40         setosa\n",
      "125     virginica\n",
      "99     versicolor\n",
      "33         setosa\n",
      "19         setosa\n",
      "73     versicolor\n",
      "146     virginica\n",
      "91     versicolor\n",
      "135     virginica\n",
      "69     versicolor\n",
      "128     virginica\n",
      "114     virginica\n",
      "48         setosa\n",
      "53     versicolor\n",
      "28         setosa\n",
      "54     versicolor\n",
      "108     virginica\n",
      "112     virginica\n",
      "17         setosa\n",
      "119     virginica\n",
      "103     virginica\n",
      "58     versicolor\n",
      "118     virginica\n",
      "18         setosa\n",
      "4          setosa\n",
      "45         setosa\n",
      "59     versicolor\n",
      "39         setosa\n",
      "36         setosa\n",
      "117     virginica\n",
      "139     virginica\n",
      "107     virginica\n",
      "132     virginica\n",
      "126     virginica\n",
      "85     versicolor\n",
      "122     virginica\n",
      "95     versicolor\n",
      "Name: Species, dtype: object\n"
     ]
    }
   ],
   "source": [
    "# making predictions on the testing set \n",
    "y_pred = NB_model.predict(x_test) \n",
    "\n",
    "print(\"Classes prédites pour les exemples de test\")\n",
    "print(y_pred)\n",
    "\n",
    "print(\"Classes réelles des exemples de test\")\n",
    "print(y_test)\n",
    "\n"
   ]
  },
  {
   "cell_type": "code",
   "execution_count": 11,
   "metadata": {},
   "outputs": [
    {
     "name": "stdout",
     "output_type": "stream",
     "text": [
      "efficacité du modèle sur les exemples de test :  0.95  , soit  95.0  %\n",
      "erreur du modèle sur les exemples de test :  0.050000000000000044  , soit  5.000000000000004  %\n"
     ]
    }
   ],
   "source": [
    "# comparing actual response values (y_test) with predicted response values (y_pred) \n",
    "from sklearn import metrics \n",
    "efficacite = metrics.accuracy_score(y_test, y_pred)\n",
    "erreur = 1-efficacite\n",
    "print(\"efficacité du modèle sur les exemples de test : \", efficacite , \" , soit \", efficacite*100 , ' %') \n",
    "print(\"erreur du modèle sur les exemples de test : \", erreur, \" , soit \", erreur*100 , ' %') \n",
    "\n"
   ]
  },
  {
   "cell_type": "code",
   "execution_count": 12,
   "metadata": {},
   "outputs": [
    {
     "name": "stdout",
     "output_type": "stream",
     "text": [
      "matrice de confusion avec les exemples de test\n",
      "[[19  0  0]\n",
      " [ 0 19  2]\n",
      " [ 0  1 19]]\n"
     ]
    }
   ],
   "source": [
    "conf = metrics.confusion_matrix(y_test, y_pred)\n",
    "print('matrice de confusion avec les exemples de test')\n",
    "print(conf)"
   ]
  },
  {
   "cell_type": "code",
   "execution_count": 13,
   "metadata": {
    "scrolled": true
   },
   "outputs": [
    {
     "name": "stdout",
     "output_type": "stream",
     "text": [
      "matrice de confusion avec les exemples de test\n"
     ]
    },
    {
     "data": {
      "image/png": "[encoded data removed]",
      "text/plain": [
       "<Figure size 432x288 with 1 Axes>"
      ]
     },
     "metadata": {},
     "output_type": "display_data"
    }
   ],
   "source": [
    "print('matrice de confusion avec les exemples de test')\n",
    "import matplotlib.pyplot as plt\n",
    "import seaborn as sns\n",
    "sns.set()\n",
    "sns.heatmap(conf, square=True, annot=True, cbar=False)\n",
    "plt.xlabel('classes prédites')\n",
    "plt.ylabel('classes réelles');"
   ]
  },
  {
   "cell_type": "code",
   "execution_count": 14,
   "metadata": {},
   "outputs": [
    {
     "data": {
      "image/png": "[encoded data removed]",
      "text/plain": [
       "<Figure size 432x288 with 1 Axes>"
      ]
     },
     "metadata": {},
     "output_type": "display_data"
    }
   ],
   "source": [
    "import seaborn as sns\n",
    "sns.set()\n",
    "sns.heatmap(conf, square=True, annot=True, cbar=False\n",
    "            , xticklabels=list(['setosa', 'versicolor', 'virginica'])\n",
    "            , yticklabels=list(['setosa', 'versicolor', 'virginica']))\n",
    "plt.xlabel('classes prédites')\n",
    "plt.ylabel('classes réelles');\n",
    "\n",
    "\n",
    "\n",
    "\n",
    "\n"
   ]
  },
  {
   "cell_type": "code",
   "execution_count": 22,
   "metadata": {},
   "outputs": [
    {
     "name": "stdout",
     "output_type": "stream",
     "text": [
      "Classification Report:\n",
      "              precision    recall  f1-score   support\n",
      "\n",
      "      setosa       1.00      1.00      1.00        19\n",
      "  versicolor       0.95      0.95      0.95        21\n",
      "   virginica       0.95      0.95      0.95        20\n",
      "\n",
      "    accuracy                           0.97        60\n",
      "   macro avg       0.97      0.97      0.97        60\n",
      "weighted avg       0.97      0.97      0.97        60\n",
      "\n"
     ]
    }
   ],
   "source": [
    "result = metrics.classification_report(y_test, y_pred)\n",
    "print(\"Classification Report:\",)\n",
    "print (result)"
   ]
  },
  {
   "cell_type": "code",
   "execution_count": 15,
   "metadata": {},
   "outputs": [
    {
     "name": "stdout",
     "output_type": "stream",
     "text": [
      "Predictions: ['versicolor']\n"
     ]
    }
   ],
   "source": [
    "# making prediction for an example\n",
    "sample = [[3, 5, 4, 2]] \n",
    "preds = NB_model.predict(sample) \n",
    "print(\"Predictions:\", preds) "
   ]
  },
  {
   "cell_type": "code",
   "execution_count": 16,
   "metadata": {},
   "outputs": [
    {
     "name": "stdout",
     "output_type": "stream",
     "text": [
      "Predictions: ['versicolor' 'virginica']\n"
     ]
    }
   ],
   "source": [
    "# making prediction for two examples\n",
    "sample = [[3, 5, 4, 2], [2, 3, 5, 4]] \n",
    "preds = NB_model.predict(sample) \n",
    "print(\"Predictions:\", preds) "
   ]
  },
  {
   "cell_type": "code",
   "execution_count": null,
   "metadata": {},
   "outputs": [],
   "source": []
  },
  {
   "cell_type": "code",
   "execution_count": null,
   "metadata": {},
   "outputs": [],
   "source": []
  }
 ],
 "metadata": {
  "kernelspec": {
   "display_name": "Python 3 (ipykernel)",
   "language": "python",
   "name": "python3"
  },
  "language_info": {
   "codemirror_mode": {
    "name": "ipython",
    "version": 3
   },
   "file_extension": ".py",
   "mimetype": "text/x-python",
   "name": "python",
   "nbconvert_exporter": "python",
   "pygments_lexer": "ipython3",
   "version": "3.9.7"
  }
 },
 "nbformat": 4,
 "nbformat_minor": 2
}
