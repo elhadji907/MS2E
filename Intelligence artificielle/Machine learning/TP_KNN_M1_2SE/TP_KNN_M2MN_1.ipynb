{
 "cells": [
  {
   "cell_type": "code",
   "execution_count": null,
   "id": "ff238e90",
   "metadata": {},
   "outputs": [],
   "source": [
    "import pandas as pd\n",
    "#readin csv file\n",
    "data = pd.read_csv('C:\\Users\\lamin\\Dropbox\\Documents\\MS2E\\Master 1\\Intelligence artificielle\\Machine learning\\iris.csv')\n",
    "#shape of dataset\n",
    "print(\"Shape:\", data.shape)\n",
    "#Columns name\n",
    "print()"
   ]
  }
 ],
 "metadata": {
  "kernelspec": {
   "display_name": "Python 3 (ipykernel)",
   "language": "python",
   "name": "python3"
  },
  "language_info": {
   "codemirror_mode": {
    "name": "ipython",
    "version": 3
   },
   "file_extension": ".py",
   "mimetype": "text/x-python",
   "name": "python",
   "nbconvert_exporter": "python",
   "pygments_lexer": "ipython3",
   "version": "3.9.7"
  }
 },
 "nbformat": 4,
 "nbformat_minor": 5
}
